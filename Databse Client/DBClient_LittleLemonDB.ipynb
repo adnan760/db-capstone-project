{
 "cells": [
  {
   "cell_type": "markdown",
   "id": "7a669894",
   "metadata": {},
   "source": [
    "### Setting up the client"
   ]
  },
  {
   "cell_type": "code",
   "execution_count": 1,
   "id": "afb25e4f",
   "metadata": {},
   "outputs": [
    {
     "name": "stdout",
     "output_type": "stream",
     "text": [
      "Requirement already satisfied: mysql-connector-python in c:\\users\\amwagle\\ac39\\lib\\site-packages (8.0.33)\n",
      "Collecting protobuf<=3.20.3,>=3.11.0\n",
      "  Downloading protobuf-3.20.3-cp39-cp39-win_amd64.whl (904 kB)\n",
      "     ------------------------------------ 904.2/904.2 kB 408.8 kB/s eta 0:00:00\n",
      "Installing collected packages: protobuf\n",
      "Successfully installed protobuf-3.20.3\n"
     ]
    }
   ],
   "source": [
    "# Installing mysql-connector-python package through pip command\n",
    "!pip install mysql-connector-python"
   ]
  },
  {
   "cell_type": "code",
   "execution_count": 1,
   "id": "31ac6c3d",
   "metadata": {},
   "outputs": [],
   "source": [
    "import mysql.connector as connector"
   ]
  },
  {
   "cell_type": "code",
   "execution_count": 4,
   "id": "f8516057",
   "metadata": {},
   "outputs": [],
   "source": [
    "connection = connector.connect(user = \"root\", password = \"\", db = \"littlelemondb\") "
   ]
  },
  {
   "cell_type": "code",
   "execution_count": 5,
   "id": "f6ddc0d5",
   "metadata": {},
   "outputs": [],
   "source": [
    "cursor=connection.cursor()"
   ]
  },
  {
   "cell_type": "markdown",
   "id": "7a111045",
   "metadata": {},
   "source": [
    "### Adding Query functions"
   ]
  },
  {
   "cell_type": "markdown",
   "id": "3f82b092",
   "metadata": {},
   "source": [
    "#### Showing tables in database"
   ]
  },
  {
   "cell_type": "code",
   "execution_count": 6,
   "id": "bd852741",
   "metadata": {
    "scrolled": true
   },
   "outputs": [],
   "source": [
    "show_tables_query = \"SHOW tables\" \n",
    "results=cursor.execute(show_tables_query)"
   ]
  },
  {
   "cell_type": "code",
   "execution_count": 7,
   "id": "98be5c6f",
   "metadata": {},
   "outputs": [],
   "source": [
    "results"
   ]
  },
  {
   "cell_type": "code",
   "execution_count": 9,
   "id": "8d4fa5b0",
   "metadata": {},
   "outputs": [
    {
     "name": "stdout",
     "output_type": "stream",
     "text": [
      "Bookings\n",
      "ContactDetails\n",
      "Customers\n",
      "MenuContent\n",
      "MenuItems\n",
      "Menus\n",
      "OrderDeliveryStatus\n",
      "Orders\n",
      "Roles\n",
      "Staff\n"
     ]
    }
   ],
   "source": [
    "tables = cursor.fetchall()\n",
    "for table in tables:\n",
    "    print(table[0])"
   ]
  },
  {
   "cell_type": "markdown",
   "id": "f8effcaa",
   "metadata": {},
   "source": [
    "#### Returning details with the help of join clause"
   ]
  },
  {
   "cell_type": "code",
   "execution_count": 12,
   "id": "15312fc8",
   "metadata": {},
   "outputs": [],
   "source": [
    "customer_join_query = '''\n",
    "        SELECT\n",
    "            c.Name AS FullName,\n",
    "            cd.Email AS Email,\n",
    "            cd.PhoneNumber AS PhoneNumber,\n",
    "            cd.Address AS Address,\n",
    "            cd.Country AS Country,\n",
    "            cd.City AS City,\n",
    "            o.TotalCost AS Cost\n",
    "        FROM Customers c\n",
    "        JOIN ContactDetails cd\n",
    "            USING (CustomerID)\n",
    "        JOIN orders o\n",
    "            USING (CustomerID)\n",
    "        WHERE o.TotalCost > 60\n",
    "        ORDER BY o.TotalCost DESC;\n",
    "'''"
   ]
  },
  {
   "cell_type": "code",
   "execution_count": 13,
   "id": "f2ae490a",
   "metadata": {},
   "outputs": [],
   "source": [
    "cursor.execute(customer_join_query)\n"
   ]
  },
  {
   "cell_type": "code",
   "execution_count": 14,
   "id": "f3ed24b6",
   "metadata": {},
   "outputs": [],
   "source": [
    "customers = cursor.fetchall()\n"
   ]
  }
 ],
 "metadata": {
  "kernelspec": {
   "display_name": "Python 3 (ipykernel)",
   "language": "python",
   "name": "python3"
  },
  "language_info": {
   "codemirror_mode": {
    "name": "ipython",
    "version": 3
   },
   "file_extension": ".py",
   "mimetype": "text/x-python",
   "name": "python",
   "nbconvert_exporter": "python",
   "pygments_lexer": "ipython3",
   "version": "3.9.13"
  }
 },
 "nbformat": 4,
 "nbformat_minor": 5
}
